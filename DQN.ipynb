{
  "nbformat": 4,
  "nbformat_minor": 0,
  "metadata": {
    "colab": {
      "name": "DQN.ipynb",
      "provenance": [],
      "collapsed_sections": []
    },
    "kernelspec": {
      "name": "python3",
      "display_name": "Python 3"
    },
    "language_info": {
      "name": "python"
    }
  },
  "cells": [
    {
      "cell_type": "code",
      "metadata": {
        "id": "Xgga5WZrx3Uf"
      },
      "source": [
        "'''\n",
        "Afshin Karimi\n",
        "99210431\n",
        "'''"
      ],
      "execution_count": null,
      "outputs": []
    },
    {
      "cell_type": "code",
      "metadata": {
        "id": "yRvrxjsFx8hV"
      },
      "source": [
        "\n",
        "import numpy as np\n",
        "import torch \n",
        "import torch.nn as nn\n",
        "import torch.optim as optim\n",
        "import gym\n",
        "import copy\n"
      ],
      "execution_count": 1,
      "outputs": []
    },
    {
      "cell_type": "code",
      "metadata": {
        "id": "Mcg2w7mvRPjZ"
      },
      "source": [
        "env = gym.make(\"CartPole-v1\")"
      ],
      "execution_count": 2,
      "outputs": []
    },
    {
      "cell_type": "code",
      "metadata": {
        "id": "ckCxzvZkRUVW"
      },
      "source": [
        "n_actions = env.action_space.n\n",
        "input_dim = env.observation_space.shape[0]\n",
        "model =nn.Sequential(nn.Linear(input_dim,32),\n",
        "                     nn.ReLU(),\n",
        "                     nn.Linear(32,16),\n",
        "                     nn.ReLU(),\n",
        "                     nn.Linear(16,n_actions))\n",
        "model_target = copy.deepcopy(model)\n",
        "\n",
        "loss_fn = nn.MSELoss()\n",
        "Learning_rate = 1e-3\n",
        "optimizer = optim.Adam(model.parameters(),lr= Learning_rate)\n",
        "\n",
        "                "
      ],
      "execution_count": 3,
      "outputs": []
    },
    {
      "cell_type": "code",
      "metadata": {
        "id": "XWSXPzIvRWhv"
      },
      "source": [
        "def learning(replay_memory,traget_update,minibatch_size = 32):\n",
        "    \n",
        "    minibatch = np.random.choice(replay_memory, minibatch_size ,replace = True)\n",
        "    s = np.array(list(map(lambda x:x['s'] , minibatch)))\n",
        "    a = np.array(list(map(lambda x:x['a'] , minibatch)))\n",
        "    r = np.array(list(map(lambda x:x['r'] , minibatch)))\n",
        "    sprime = np.array(list(map(lambda x:x['sprime'] , minibatch)))\n",
        "    done = np.array(list(map(lambda x:x['done'] , minibatch)))\n",
        "    global model_target\n",
        "    if traget_update: model_target = copy.deepcopy(model)    \n",
        "    q_s = model(torch.tensor(s).float())\n",
        "    q_sprime = model_target(torch.tensor(sprime).float())\n",
        "    q_s_target = q_s.detach().clone()\n",
        "    \n",
        "    \n",
        "    for i,(s1,a1,r1,q_sprime1,done1) in enumerate(zip(s,a,r,q_sprime,done)):\n",
        "        if not done1: target = r1 + gamma * torch.max(q_sprime1)\n",
        "        else:target = r1\n",
        "        q_s_target[i][a1] = target\n",
        "            \n",
        "    optimizer.zero_grad()\n",
        "    loss = loss_fn(q_s , q_s_target)\n",
        "    loss.backward()\n",
        "    optimizer.step()\n",
        "            "
      ],
      "execution_count": 4,
      "outputs": []
    },
    {
      "cell_type": "code",
      "metadata": {
        "colab": {
          "base_uri": "https://localhost:8080/"
        },
        "id": "mrT6ZALDRYXr",
        "outputId": "de72666b-8fc4-481e-d6bc-3730af865253"
      },
      "source": [
        "n_episodes = 1000\n",
        "gamma = 0.98\n",
        "epsilon = 0.05\n",
        "minibatch_size = 32\n",
        "r_sums = []\n",
        "replay_memory = []\n",
        "mem_max_size = 120000\n",
        "for n in range(n_episodes):\n",
        "    s = env.reset()\n",
        "    done = False\n",
        "    r_sum = 0\n",
        "    flag = 1\n",
        "    \n",
        "    while not done:\n",
        "        q_s = model(torch.tensor(s).float())\n",
        "        \n",
        "        if np.random.random() < epsilon :\n",
        "            a = env.action_space.sample()\n",
        "        else:\n",
        "            a = np.argmax(q_s.detach().numpy())\n",
        "            \n",
        "        sprime,r,done,info = env.step(a)\n",
        "        r_sum += r\n",
        "        if len(replay_memory) > mem_max_size:\n",
        "            replay_memory.pop(0)\n",
        "        replay_memory.append({\"s\":s,\"a\":a,\"r\":r,\"sprime\":sprime,\"done\":done})\n",
        "        s = sprime\n",
        "        traget_update = False\n",
        "        if n %1 == 0 and flag == 1:\n",
        "            flag = 0 \n",
        "            traget_update = True  \n",
        "        learning(replay_memory,traget_update,minibatch_size = minibatch_size)\n",
        "    if epsilon > 0.1:\n",
        "        epsilon -= 0.001\n",
        "    r_sums.append(r_sum)\n",
        "    if n % 100 == 0:\n",
        "        print(\"Episode %d: %f\" %(n+1 , r_sum))\n",
        "        "
      ],
      "execution_count": 5,
      "outputs": [
        {
          "output_type": "stream",
          "text": [
            "Episode 1: 11.000000\n",
            "Episode 101: 203.000000\n",
            "Episode 201: 228.000000\n",
            "Episode 301: 259.000000\n",
            "Episode 401: 241.000000\n",
            "Episode 501: 278.000000\n",
            "Episode 601: 411.000000\n",
            "Episode 701: 500.000000\n",
            "Episode 801: 252.000000\n",
            "Episode 901: 500.000000\n"
          ],
          "name": "stdout"
        }
      ]
    },
    {
      "cell_type": "code",
      "metadata": {
        "colab": {
          "base_uri": "https://localhost:8080/",
          "height": 296
        },
        "id": "DDnw8JuTRdOE",
        "outputId": "f4a9e4c2-0119-4e60-ad18-c808734a5937"
      },
      "source": [
        "\n",
        "%matplotlib inline \n",
        "import matplotlib.pyplot as plt\n",
        "MA = [] # moving average to show uptrend in rewards\n",
        "temp = 0\n",
        "j = 1\n",
        "for i in r_sums:\n",
        "    temp += i\n",
        "    MA.append(temp/j)\n",
        "    j+=1\n",
        "plt.plot(r_sums,color=\"b\")\n",
        "plt.plot(MA,color=\"r\")\n",
        "plt.xlabel(\"Episode\")\n",
        "plt.ylabel(\"Reward\")"
      ],
      "execution_count": 6,
      "outputs": [
        {
          "output_type": "execute_result",
          "data": {
            "text/plain": [
              "Text(0, 0.5, 'Reward')"
            ]
          },
          "metadata": {
            "tags": []
          },
          "execution_count": 6
        },
        {
          "output_type": "display_data",
          "data": {
            "image/png": "[encoded data removed]",
            "text/plain": [
              "<Figure size 432x288 with 1 Axes>"
            ]
          },
          "metadata": {
            "tags": [],
            "needs_background": "light"
          }
        }
      ]
    },
    {
      "cell_type": "code",
      "metadata": {
        "id": "rlG-JzVYRoEB"
      },
      "source": [
        ""
      ],
      "execution_count": null,
      "outputs": []
    }
  ]
}